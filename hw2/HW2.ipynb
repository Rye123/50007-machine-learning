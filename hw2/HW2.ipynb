{
 "cells": [
  {
   "attachments": {},
   "cell_type": "markdown",
   "metadata": {},
   "source": [
    "# 50.007 Machine Learning HW2\n",
    "**Name**: Ryan Toh (1005129)"
   ]
  },
  {
   "attachments": {},
   "cell_type": "markdown",
   "metadata": {},
   "source": [
    "## 1. K-Means"
   ]
  },
  {
   "cell_type": "code",
   "execution_count": 30,
   "metadata": {},
   "outputs": [],
   "source": [
    "import numpy as np\n",
    "import math\n",
    "from typing import List, Tuple\n",
    "\n"
   ]
  },
  {
   "cell_type": "code",
   "execution_count": 31,
   "metadata": {},
   "outputs": [],
   "source": [
    "def get_euclidean_distance(p1: np.ndarray, p2: np.ndarray) -> float:\n",
    "    \"\"\"\n",
    "    Returns the Euclidean distance between `p1` and `p2`.\n",
    "    \"\"\"\n",
    "    distance_vector = p1 - p2\n",
    "    squared_dist = np.dot(distance_vector, distance_vector.T)\n",
    "    return np.sqrt(squared_dist)\n",
    "\n",
    "# # Test Code\n",
    "# A = np.array([10, 10])\n",
    "# B = np.array([20, 10])\n",
    "# C = np.array([40, 30])\n",
    "# D = np.array([50, 40])\n",
    "# C1 = np.array([10, 10])\n",
    "# C2 = np.array([20, 10])\n",
    "\n",
    "# print(get_euclidean_distance(A, C1))\n",
    "# print(get_euclidean_distance(C1, A), end=' ')\n",
    "# print(get_euclidean_distance(C1, B), end=' ')\n",
    "# print(get_euclidean_distance(C1, C), end=' ')\n",
    "# print(get_euclidean_distance(C1, D))\n",
    "# print(get_euclidean_distance(A, C2))\n",
    "# print(get_euclidean_distance(C2, A), end=' ')\n",
    "# print(get_euclidean_distance(C2, B), end=' ')\n",
    "# print(get_euclidean_distance(C2, C), end=' ')\n",
    "# print(get_euclidean_distance(C2, D), end=' ')"
   ]
  },
  {
   "cell_type": "code",
   "execution_count": 32,
   "metadata": {},
   "outputs": [],
   "source": [
    "def get_cost(clusters: List[List[np.ndarray]], centroids: List[np.ndarray]) -> float:\n",
    "    \"\"\"\n",
    "    Returns the overall cost, given a list of clusters `clusters` and a list of corresponding centroids `centroids`.\n",
    "    \"\"\"\n",
    "\n",
    "    def get_distortion(cluster: List[np.ndarray], centroid: np.ndarray) -> float:\n",
    "        \"\"\"\n",
    "        Returns the distortion associated with `cluster`, with the given `centroid`.\n",
    "        \"\"\"\n",
    "        sum = 0.0\n",
    "        for point in cluster:\n",
    "            sum += get_euclidean_distance(point, centroid)\n",
    "        return sum\n",
    "    \n",
    "    cost = 0.0\n",
    "    for i in range(len(clusters)):\n",
    "        cluster = clusters[i]\n",
    "        centroid = centroids[i]\n",
    "        cost += get_distortion(cluster, centroid)\n",
    "    return cost"
   ]
  },
  {
   "cell_type": "code",
   "execution_count": 71,
   "metadata": {},
   "outputs": [],
   "source": [
    "def k_means_algo(data: np.ndarray, cluster_count: int, initial_centroids: List[np.ndarray], max_iter:int = -1) -> Tuple[List[List[np.ndarray]], List[np.ndarray]]:\n",
    "    \"\"\"\n",
    "    Executes the k-means algorithm on `data` with a cluster count of `cluster_count` and initial centroids as a list `initial_centroids`.\n",
    "    Returns a tuple, consisting of:\n",
    "    - A list of clusters (where each cluster is itself a list of `np.ndarray`s)\n",
    "    - A list of centroids (where each centroid is an `np.ndarray`)\n",
    "    \"\"\"\n",
    "\n",
    "    # Initialise centroids\n",
    "    centroids = initial_centroids.copy()\n",
    "    clusters = []\n",
    "\n",
    "    \n",
    "    # Repeat iterations\n",
    "    last_cost = -1\n",
    "    iteration_count = 0\n",
    "    while True:\n",
    "        # Re-initialise clusters\n",
    "        clusters = []\n",
    "        for i in range(cluster_count):\n",
    "            clusters.append([])\n",
    "\n",
    "        # Step 1: Fix centroids, add points to clusters\n",
    "        for point in data:\n",
    "            # Get closest distance\n",
    "            smallest_index = 0\n",
    "            smallest_distance = np.infty\n",
    "            for i in range(len(centroids)):\n",
    "                distance = get_euclidean_distance(point, centroids[i])\n",
    "                if distance < smallest_distance:\n",
    "                    smallest_index = i\n",
    "                    smallest_distance = distance\n",
    "                    if smallest_distance == 0: # smallest possible distance already\n",
    "                        break\n",
    "            \n",
    "            # Add the point to the cluster with the closest centroid\n",
    "            clusters[smallest_index].append(point) #TODO: append point or the index in the data?\n",
    "\n",
    "        # Step 2: Fix clusters, optimise centroids\n",
    "        for i in range(len(clusters)):\n",
    "            cluster = clusters[i]\n",
    "            if len(cluster) == 0:\n",
    "                continue\n",
    "            sum_point = cluster[0].copy()\n",
    "            if len(cluster) > 1:\n",
    "                for j in range(1, len(cluster)):\n",
    "                    sum_point += cluster[j]\n",
    "            mean_point = sum_point / len(cluster)\n",
    "            centroids[i] = mean_point\n",
    "        \n",
    "        # Step 3: Calculate cost\n",
    "        cost = get_cost(clusters, centroids)\n",
    "        # print(f\"Iteration {iteration_count}: {cost}\")\n",
    "        iteration_count += 1\n",
    "        if iteration_count >= max_iter and max_iter >= 0:\n",
    "            break\n",
    "\n",
    "        # If no change in cost, break\n",
    "        if cost == last_cost:\n",
    "            break\n",
    "        last_cost = cost\n",
    "    \n",
    "    return clusters, centroids"
   ]
  },
  {
   "cell_type": "code",
   "execution_count": 72,
   "metadata": {},
   "outputs": [
    {
     "name": "stdout",
     "output_type": "stream",
     "text": [
      "0\n",
      "[array([10, 10]), array([20, 10])]\n",
      "[15. 10.]\n",
      "1\n",
      "[array([40, 30]), array([50, 40])]\n",
      "[45. 35.]\n"
     ]
    }
   ],
   "source": [
    "# # Test Code\n",
    "# A = np.array([10, 10])\n",
    "# B = np.array([20, 10])\n",
    "# C = np.array([40, 30])\n",
    "# D = np.array([50, 40])\n",
    "# C1 = np.array([10, 10])\n",
    "# C2 = np.array([20, 10])\n",
    "\n",
    "# data = np.stack([A, B, C, D])\n",
    "# cluster_count = 2\n",
    "# initial_centroids = [C1, C2]\n",
    "\n",
    "# clusters, centroids = k_means_algo(data, cluster_count, initial_centroids)\n",
    "# for i in range(len(centroids)):\n",
    "#     print(i)\n",
    "#     print(clusters[i])\n",
    "#     print(centroids[i])"
   ]
  }
 ],
 "metadata": {
  "kernelspec": {
   "display_name": "Python 3",
   "language": "python",
   "name": "python3"
  },
  "language_info": {
   "codemirror_mode": {
    "name": "ipython",
    "version": 3
   },
   "file_extension": ".py",
   "mimetype": "text/x-python",
   "name": "python",
   "nbconvert_exporter": "python",
   "pygments_lexer": "ipython3",
   "version": "3.11.1"
  },
  "orig_nbformat": 4,
  "vscode": {
   "interpreter": {
    "hash": "e2db91031a12fcb3e3390203c036b39a950efdb54e631a631b83ee636da44a25"
   }
  }
 },
 "nbformat": 4,
 "nbformat_minor": 2
}
