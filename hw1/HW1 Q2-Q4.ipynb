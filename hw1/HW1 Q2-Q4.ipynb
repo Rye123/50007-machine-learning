{
 "cells": [
  {
   "attachments": {},
   "cell_type": "markdown",
   "metadata": {},
   "source": [
    "# 50.007 Machine Learning HW1\n",
    "**Name**: Ryan Toh (1005129)"
   ]
  },
  {
   "attachments": {},
   "cell_type": "markdown",
   "metadata": {},
   "source": [
    "## 2. Linear Classification"
   ]
  },
  {
   "attachments": {},
   "cell_type": "markdown",
   "metadata": {},
   "source": [
    "### 2*. Setup\n",
    "This code requires the following Python packages:\n",
    "- Numpy\n",
    "\n",
    "Next, run the following cells in order."
   ]
  },
  {
   "cell_type": "code",
   "execution_count": 1,
   "metadata": {},
   "outputs": [],
   "source": [
    "# Necessary imports\n",
    "import numpy as np\n",
    "from typing import Tuple\n",
    "\n",
    "# Extract data from CSVs -- credit for CSV extraction code: https://stackoverflow.com/a/3519314\n",
    "training_data = np.genfromtxt('./data/2/train_1_5.csv', delimiter=',')\n",
    "test_data = np.genfromtxt('./data/2/test_1_5.csv', delimiter=',')\n"
   ]
  },
  {
   "attachments": {},
   "cell_type": "markdown",
   "metadata": {},
   "source": [
    "### 2*. Accuracy Calculation"
   ]
  },
  {
   "cell_type": "code",
   "execution_count": 2,
   "metadata": {},
   "outputs": [],
   "source": [
    "def get_error(data:np.ndarray, weight:np.ndarray, offset:float)->float:\n",
    "    \"\"\"\n",
    "    Returns the accuracy of the given `weight` and `offset` based on `data`.\n",
    "    This uses the zero-one loss function.\n",
    "    \"\"\"\n",
    "    # Error checks\n",
    "    if len(data) == 0:\n",
    "        raise ValueError(\"Cannot calculate error from empty data array.\")\n",
    "    if type(data[0]) is not np.ndarray:\n",
    "        raise TypeError(\"Data should be a multi-dimensional array.\")\n",
    "    if len(data[0]) <= 1:\n",
    "        raise ValueError(\"Data should have a weight dimension.\")\n",
    "\n",
    "    # Calculate error average    \n",
    "    error_sum = 0\n",
    "    for d in data:\n",
    "        x = d[:-1]\n",
    "        y = d[-1]\n",
    "        y_pred = weight.dot(x) + offset\n",
    "        error_full = y * y_pred\n",
    "        error = 0\n",
    "        if error_full > 0:\n",
    "            error = 1\n",
    "        else:\n",
    "            error = 0\n",
    "        error_sum += error\n",
    "    return error_sum/len(data)\n",
    "        "
   ]
  },
  {
   "attachments": {},
   "cell_type": "markdown",
   "metadata": {},
   "source": [
    "### 2*. Perceptron Algorithm\n",
    "This code cell defines a Perceptron algorithm."
   ]
  },
  {
   "cell_type": "code",
   "execution_count": 3,
   "metadata": {},
   "outputs": [],
   "source": [
    "def perceptron_algo(training_data:np.ndarray, epochs:int, initial_weight:np.array=None, initial_offset:float=0)->Tuple[np.ndarray, float]:\n",
    "    \"\"\"\n",
    "    Executes the Perceptron Algorithm on `training_data`, with a total of `epoch` iterations.\n",
    "    Returns the final weight as a `np.ndarray`.\n",
    "\n",
    "    Note that this assumes that the final value of each array in `training_data` is the class label.\n",
    "    \"\"\"\n",
    "    # Error Checks\n",
    "    if len(training_data) == 0:\n",
    "        raise ValueError(\"Training data is empty\")\n",
    "    if type(training_data[0]) is not np.ndarray:\n",
    "        raise TypeError(\"Training data should be a multi-dimensional array.\")\n",
    "    if len(training_data[0]) <= 1:\n",
    "        raise ValueError(\"Training data should have a dimension containing both the input and the class label.\")\n",
    "\n",
    "    # Checks on initial weight\n",
    "    if initial_weight is None:\n",
    "        # Set initial weight to be all zeros, matching the x vector.\n",
    "        initial_weight = np.zeros(len(training_data[0]) - 1)\n",
    "    elif len(initial_weight) != len(training_data[0]) - 1:\n",
    "        raise ValueError(\"Initial weight provided does not match dimension of training values.\")\n",
    "    \n",
    "    weight = initial_weight\n",
    "    offset = initial_offset\n",
    "    for k in range(0, epochs):\n",
    "        # Loop through entire set of training data\n",
    "        for d in training_data:\n",
    "            x = d[:-1]\n",
    "            y = d[-1]\n",
    "            y_pred = weight.dot(x) + offset\n",
    "\n",
    "            # print(x, y, y_pred)\n",
    "\n",
    "            # check if prediction is correct\n",
    "            if y * y_pred > 0:\n",
    "                continue\n",
    "            else:\n",
    "                # Classification mistake made\n",
    "                weight = np.add(weight, np.dot(y, x))\n",
    "                offset += y\n",
    "    \n",
    "    return weight, offset"
   ]
  },
  {
   "attachments": {},
   "cell_type": "markdown",
   "metadata": {},
   "source": [
    "### 2a.) Algorithm run for 1 epoch"
   ]
  },
  {
   "cell_type": "code",
   "execution_count": 4,
   "metadata": {},
   "outputs": [
    {
     "name": "stdout",
     "output_type": "stream",
     "text": [
      "Weight: [-2.12964897 -5.11077037]\n",
      "Offset: 0.0\n",
      "Accuracy: 0.9839034205231388\n"
     ]
    }
   ],
   "source": [
    "# Execute Perceptron Algorithm for 1 epoch.\n",
    "weight, offset = perceptron_algo(\n",
    "    training_data=training_data,\n",
    "    epochs=1\n",
    ")\n",
    "\n",
    "if weight is None:\n",
    "    print(\"Exceeded epochs. No such classifier found.\")\n",
    "else:\n",
    "    print(f\"Weight: {weight}\\nOffset: {offset}\\nAccuracy: {get_error(test_data, weight, offset)}\")"
   ]
  },
  {
   "attachments": {},
   "cell_type": "markdown",
   "metadata": {},
   "source": [
    "### 2b.) Algorithm run for 5 epochs."
   ]
  },
  {
   "cell_type": "code",
   "execution_count": 9,
   "metadata": {},
   "outputs": [
    {
     "name": "stdout",
     "output_type": "stream",
     "text": [
      "Weight: [-0.67838976 -9.99537055]\n",
      "Offset: 2.0\n",
      "Accuracy: 0.9798792756539235\n"
     ]
    }
   ],
   "source": [
    "# Execute Perceptron Algorithm for 5 epochs.\n",
    "weight, offset = perceptron_algo(\n",
    "    training_data=training_data,\n",
    "    epochs=5\n",
    ")\n",
    "\n",
    "if weight is None:\n",
    "    print(\"Exceeded epochs. No such classifier found.\")\n",
    "else:\n",
    "    print(f\"Weight: {weight}\\nOffset: {offset}\\nAccuracy: {get_error(test_data, weight, offset)}\")"
   ]
  },
  {
   "attachments": {},
   "cell_type": "markdown",
   "metadata": {},
   "source": [
    "# 3. Linear and Polynomial Regression"
   ]
  },
  {
   "attachments": {},
   "cell_type": "markdown",
   "metadata": {},
   "source": [
    "### 3*. Setup\n",
    "This code requires the following Python packages:\n",
    "- Numpy\n",
    "- MatPlotLib\n",
    "\n",
    "Next, run the following cells in order."
   ]
  },
  {
   "cell_type": "code",
   "execution_count": 16,
   "metadata": {},
   "outputs": [],
   "source": [
    "# Necessary imports\n",
    "import numpy as np\n",
    "import matplotlib.pyplot as plt\n",
    "from typing import Tuple\n",
    "\n",
    "# Extract data from DAT files\n",
    "input_data  = np.fromfile('./data/3/hw1x.dat', dtype=np.float64, sep=\"\\n\")\n",
    "output_data = np.fromfile('./data/3/hw1y.dat', dtype=np.float64, sep=\"\\n\")\n",
    "\n",
    "# Zip data into a combined multidimensional array, such that:\n",
    "## feature vectors are stacked as rows, i.e. `data` has n columns and 3 rows\n",
    "## shape will be (200, 3)\n",
    "ones = np.ones(len(input_data))\n",
    "data = np.stack([input_data, ones, output_data]).transpose()"
   ]
  },
  {
   "attachments": {},
   "cell_type": "markdown",
   "metadata": {},
   "source": [
    "### 3*. Training Error Calculation"
   ]
  },
  {
   "cell_type": "code",
   "execution_count": 17,
   "metadata": {},
   "outputs": [],
   "source": [
    "def get_empirical_risk(data: np.ndarray, weight: np.ndarray) -> float:\n",
    "    \"\"\"\n",
    "    Returns the empirical risk of the given weight with the given data.\n",
    "    - This uses the least squares criterion, and assumes the agreement Z = Y - (X^T Theta).\n",
    "    \"\"\"\n",
    "    x = np.array([\n",
    "        v[:-1] for v in data\n",
    "    ])\n",
    "    y = np.array([\n",
    "        v[-1] for v in data\n",
    "    ])\n",
    "    n = len(y)\n",
    "\n",
    "    # Y - (X^T Theta)\n",
    "    difference_vector = np.subtract(y, np.matmul(x, weight))\n",
    "\n",
    "    # (Y - (X^T Theta))^2\n",
    "    squared_difference = np.matmul(np.transpose(difference_vector), difference_vector)\n",
    "\n",
    "\n",
    "    return (1/(2*n)) * squared_difference\n"
   ]
  },
  {
   "attachments": {},
   "cell_type": "markdown",
   "metadata": {},
   "source": [
    "### 3a.) Closed Form Linear Regression Formula"
   ]
  },
  {
   "cell_type": "code",
   "execution_count": 8,
   "metadata": {},
   "outputs": [],
   "source": [
    "def linear_regression_closedform(data: np.ndarray) -> np.ndarray:\n",
    "    \"\"\"\n",
    "    Returns the weight vector using closed form linear regression.\n",
    "    Note that this assumes that the final value of each array in `data` is the output value.\n",
    "    \"\"\"\n",
    "    # Error Checks\n",
    "    if len(data) == 0:\n",
    "        raise ValueError(\"Data is empty\")\n",
    "    if type(data[0]) is not np.ndarray:\n",
    "        raise TypeError(\"Data should be a multi-dimensional array.\")\n",
    "    if len(data[0]) <= 1:\n",
    "        raise ValueError(\"Data should contain both input and output values.\")\n",
    "    \n",
    "    # Defining the variables -- y is the output and will be the final value of each vector in the `data` set.\n",
    "    x = np.array([\n",
    "        v[:-1] for v in data\n",
    "    ])\n",
    "    y = np.array([\n",
    "        v[-1] for v in data\n",
    "    ])\n",
    "    n = len(y)\n",
    "\n",
    "    # (d x d) matrix, A\n",
    "    A = (1/n) * np.matmul(x.transpose(), x)\n",
    "    \n",
    "    # (d x 1) column vector b\n",
    "    b = (1/n) * np.matmul(x.transpose(), y)\n",
    "    \n",
    "    try:\n",
    "        A_inv = np.linalg.inv(A)\n",
    "        theta = np.matmul(A_inv, b)\n",
    "        return theta\n",
    "    except np.linalg.LinAlgError:\n",
    "        raise ValueError(\"Matrix A is not invertible.\")\n",
    "    "
   ]
  },
  {
   "cell_type": "code",
   "execution_count": 52,
   "metadata": {},
   "outputs": [
    {
     "name": "stdout",
     "output_type": "stream",
     "text": [
      "Weight: [1.78157138 3.2447227 ]\n",
      "Error: 0.5812605752543937\n"
     ]
    },
    {
     "data": {
      "text/plain": [
       "[<matplotlib.lines.Line2D at 0x26ddbfefd50>]"
      ]
     },
     "execution_count": 52,
     "metadata": {},
     "output_type": "execute_result"
    },
    {
     "data": {
      "image/png": "[encoded data removed]",
      "text/plain": [
       "<Figure size 640x480 with 1 Axes>"
      ]
     },
     "metadata": {},
     "output_type": "display_data"
    }
   ],
   "source": [
    "# Report Weight Vector, and display the graph.\n",
    "weight = linear_regression_closedform(data)\n",
    "print(f\"Weight: {weight}\")\n",
    "print(f\"Error: {get_empirical_risk(data, weight)}\")\n",
    "\n",
    "# Plot example data points with red circles\n",
    "plt.plot(input_data, output_data, 'ro')\n",
    "\n",
    "x_cont = np.arange(np.min(input_data), np.max(input_data), 0.1)\n",
    "y_cont = np.multiply(weight[0], x_cont) + weight[1]\n",
    "\n",
    "# Plot linear regression line with blue line\n",
    "plt.plot(x_cont, y_cont)"
   ]
  },
  {
   "attachments": {},
   "cell_type": "markdown",
   "metadata": {},
   "source": [
    "### 3b.) Gradient Descent Linear Regression"
   ]
  },
  {
   "attachments": {},
   "cell_type": "markdown",
   "metadata": {},
   "source": [
    "#### 3bi.) Batch Gradient Descent"
   ]
  },
  {
   "cell_type": "code",
   "execution_count": 95,
   "metadata": {},
   "outputs": [],
   "source": [
    "def linear_regression_batchgradientdescent(data: np.ndarray, initial_weight: np.ndarray = None, learning_rate: float = 0.005, epochs: int = 5) -> np.ndarray:\n",
    "    \"\"\"\n",
    "    Returns the weight vector using batch gradient descent.\n",
    "    Note that this assumes that the final value of each array in `data` is the output value.\n",
    "    \"\"\"\n",
    "    # Error Checks\n",
    "    if len(data) == 0:\n",
    "        raise ValueError(\"Data is empty\")\n",
    "    if type(data[0]) is not np.ndarray:\n",
    "        raise TypeError(\"Data should be a multi-dimensional array.\")\n",
    "    if len(data[0]) <= 1:\n",
    "        raise ValueError(\"Data should contain both input and output values.\")\n",
    "    \n",
    "    # Defining the variables -- y is the output and will be the final value of each vector in the `data` set.\n",
    "    x = np.array(\n",
    "        [v[:-1] for v in data]\n",
    "    )\n",
    "    y = np.array(\n",
    "        [v[-1] for v in data]\n",
    "    )\n",
    "    n = len(data) # number of example datums\n",
    "    d = len(x[0]) # number of features\n",
    "\n",
    "    weight = np.zeros(d)\n",
    "    if initial_weight is not None:\n",
    "        if len(initial_weight) == d:\n",
    "            weight = initial_weight\n",
    "        else:\n",
    "            raise ValueError(\"Dimension of initial weight does not match number of features.\")\n",
    "    \n",
    "    def risk_gradient(data: np.ndarray, weight: np.ndarray) -> np.ndarray:\n",
    "        \"\"\"\n",
    "        Returns the gradient of the empirical risk, based on the entire data\n",
    "        \"\"\"\n",
    "        x = np.array(\n",
    "            [v[:-1] for v in data]\n",
    "        )\n",
    "        y = np.array(\n",
    "            [v[-1] for v in data]\n",
    "        )\n",
    "\n",
    "        # Y - (X Theta)\n",
    "        difference_vector = np.subtract(y, np.matmul(x, weight))\n",
    "\n",
    "        # X^T(Y - (X Theta))\n",
    "        gradient_vector = -np.matmul(x.transpose(), difference_vector)\n",
    "        return gradient_vector\n",
    "\n",
    "    for k in range(epochs):\n",
    "        risk_g = risk_gradient(data, weight)\n",
    "        weight = weight - ((learning_rate/n)*risk_g)\n",
    "    return weight"
   ]
  },
  {
   "cell_type": "code",
   "execution_count": 94,
   "metadata": {},
   "outputs": [
    {
     "name": "stdout",
     "output_type": "stream",
     "text": [
      "(2,)\n",
      "(2,)\n",
      "(2,)\n",
      "(2,)\n",
      "(2,)\n",
      "Weight: [0.13822604 0.12322976]\n",
      "Error: 12.422373711732249\n"
     ]
    },
    {
     "data": {
      "text/plain": [
       "[<matplotlib.lines.Line2D at 0x26ddebc5950>]"
      ]
     },
     "execution_count": 94,
     "metadata": {},
     "output_type": "execute_result"
    },
    {
     "data": {
      "image/png": "[encoded data removed]",
      "text/plain": [
       "<Figure size 640x480 with 1 Axes>"
      ]
     },
     "metadata": {},
     "output_type": "display_data"
    }
   ],
   "source": [
    "# Report Weight Vector, and display the graph.\n",
    "weight = linear_regression_batchgradientdescent(\n",
    "    data, \n",
    "    learning_rate=0.005, \n",
    "    epochs=5\n",
    ")\n",
    "print(f\"Weight: {weight}\")\n",
    "print(f\"Error: {get_empirical_risk(data, weight)}\")\n",
    "\n",
    "# Plot example data points with red circles\n",
    "plt.plot(input_data, output_data, 'ro')\n",
    "\n",
    "x_cont = np.arange(np.min(input_data), np.max(input_data), 0.1)\n",
    "y_cont = np.multiply(weight[0], x_cont) + weight[1]\n",
    "\n",
    "# Plot linear regression line with blue line\n",
    "plt.plot(x_cont, y_cont)"
   ]
  },
  {
   "attachments": {},
   "cell_type": "markdown",
   "metadata": {},
   "source": [
    "#### 3bii.) Stochastic Gradient Descent"
   ]
  },
  {
   "cell_type": "code",
   "execution_count": 69,
   "metadata": {},
   "outputs": [],
   "source": [
    "from random import randrange\n",
    "\n",
    "def linear_regression_stochasticgradientdescent(data: np.ndarray, initial_weight: np.ndarray = None, epochs: int = 5) -> np.ndarray:\n",
    "    \"\"\"\n",
    "    Returns the weight vector using stochastic gradient descent.\n",
    "    Note that this assumes that the final value of each array in `data` is the output value.\n",
    "    \"\"\"\n",
    "    # Error Checks\n",
    "    if len(data) == 0:\n",
    "        raise ValueError(\"Data is empty\")\n",
    "    if type(data[0]) is not np.ndarray:\n",
    "        raise TypeError(\"Data should be a multi-dimensional array.\")\n",
    "    if len(data[0]) <= 1:\n",
    "        raise ValueError(\"Data should contain both input and output values.\")\n",
    "    \n",
    "    # Defining the variables\n",
    "    n = len(data) # number of example datums\n",
    "    d = len(data[0])-1 # number of features\n",
    "    k = 0\n",
    "\n",
    "    weight = np.zeros(d)\n",
    "    if initial_weight is not None:\n",
    "        if len(initial_weight) == weight:\n",
    "            weight = initial_weight\n",
    "        else:\n",
    "            raise ValueError(\"Dimension of initial weight does not match number of features.\")\n",
    "\n",
    "    for k in range(epochs*n):\n",
    "        learning_rate = 1/(k+1)\n",
    "        # Randomly select an example datum\n",
    "        datum_i = randrange(0, len(data)) # select the index so we can perform replacement\n",
    "        datum = data[datum_i]\n",
    "        x = datum[:-1]\n",
    "        y = datum[-1]\n",
    "\n",
    "        risk_g = -(y - np.dot(weight, x)) * x\n",
    "\n",
    "        weight = weight - (learning_rate*risk_g)\n",
    "    return weight"
   ]
  },
  {
   "cell_type": "code",
   "execution_count": 72,
   "metadata": {},
   "outputs": [
    {
     "name": "stdout",
     "output_type": "stream",
     "text": [
      "Weight: [1.93569811 3.05294519]\n",
      "Error: 0.5858997239135858\n"
     ]
    },
    {
     "data": {
      "text/plain": [
       "[<matplotlib.lines.Line2D at 0x26ddc4d2b90>]"
      ]
     },
     "execution_count": 72,
     "metadata": {},
     "output_type": "execute_result"
    },
    {
     "data": {
      "image/png": "[encoded data removed]",
      "text/plain": [
       "<Figure size 640x480 with 1 Axes>"
      ]
     },
     "metadata": {},
     "output_type": "display_data"
    }
   ],
   "source": [
    "# Report Weight Vector, and display the graph.\n",
    "weight = linear_regression_stochasticgradientdescent(\n",
    "    data, \n",
    "    epochs=5\n",
    ")\n",
    "print(f\"Weight: {weight}\")\n",
    "print(f\"Error: {get_empirical_risk(data, weight)}\")\n",
    "\n",
    "# Plot example data points with red circles\n",
    "plt.plot(input_data, output_data, 'ro')\n",
    "\n",
    "x_cont = np.arange(np.min(input_data), np.max(input_data), 0.1)\n",
    "y_cont = np.multiply(weight[0], x_cont) + weight[1]\n",
    "\n",
    "# Plot linear regression line with blue line\n",
    "plt.plot(x_cont, y_cont)"
   ]
  },
  {
   "attachments": {},
   "cell_type": "markdown",
   "metadata": {},
   "source": [
    "### 3c.) Polynomial Regression"
   ]
  },
  {
   "cell_type": "code",
   "execution_count": 18,
   "metadata": {},
   "outputs": [],
   "source": [
    "# Add features x^2, x^3, ..., x^d to the inputs\n",
    "\n",
    "# Extract data from DAT files\n",
    "input_data  = np.fromfile('./data/3/hw1x.dat', dtype=np.float64, sep=\"\\n\")\n",
    "output_data = np.fromfile('./data/3/hw1y.dat', dtype=np.float64, sep=\"\\n\")\n",
    "\n",
    "# Zip data into a combined multidimensional array, such that:\n",
    "## feature vectors are stacked as rows, i.e. `data` has n columns and 3 rows\n",
    "## shape will be (200, 3)\n",
    "\n",
    "\n",
    "def poly_regress(x: np.ndarray, y: np.ndarray, d: int) -> Tuple[np.ndarray, float]:\n",
    "    \"\"\"\n",
    "    Takes `x`, `y` and a `d` value to get a `d`th order fit of the data.\n",
    "    Returns the weight array and error by applying the closed form solution for polynomial regression.\n",
    "    \"\"\"\n",
    "    ones = np.ones(len(input_data))\n",
    "    arrays = [x]\n",
    "\n",
    "    for i in range(2, d+1):\n",
    "        new_arr = np.power(input_data, i)\n",
    "        arrays.append(new_arr)\n",
    "    arrays.append(ones)\n",
    "    arrays.append(y)\n",
    "    data = np.stack(arrays).transpose()\n",
    "\n",
    "    weight = linear_regression_closedform(data)\n",
    "    error = get_empirical_risk(data, weight)\n",
    "\n",
    "    return weight, error\n"
   ]
  },
  {
   "cell_type": "code",
   "execution_count": 31,
   "metadata": {},
   "outputs": [
    {
     "name": "stdout",
     "output_type": "stream",
     "text": [
      "d=2: Error: 0.5703016121648224\n",
      "d=3: Error: 0.570084436469135\n",
      "d=4: Error: 0.5646163879286425\n",
      "d=5: Error: 0.5638968184749197\n",
      "d=6: Error: 0.5613433038902952\n",
      "d=7: Error: 0.556235251582056\n",
      "d=8: Error: 0.5537805800011253\n",
      "d=9: Error: 0.5529231399163058\n",
      "d=10: Error: 0.5525904193678722\n",
      "d=11: Error: 0.8099977325309439\n",
      "d=12: Error: 87.08389584666132\n",
      "d=13: Error: 2.0521936821743707\n",
      "d=14: Error: 22.882657979621257\n",
      "d=15: Error: 2336.1890036922687\n"
     ]
    },
    {
     "data": {
      "image/png": "[encoded data removed]",
      "text/plain": [
       "<Figure size 640x480 with 1 Axes>"
      ]
     },
     "metadata": {},
     "output_type": "display_data"
    }
   ],
   "source": [
    "# Plot example data points with red circles\n",
    "plt.plot(input_data, output_data, 'ro')\n",
    "\n",
    "# Get graph data\n",
    "x_cont = np.arange(np.min(input_data), np.max(input_data), 0.1)\n",
    "ones_cont = np.ones(len(x_cont))\n",
    "\n",
    "# Get weights for each d\n",
    "for d in range(2, 16):\n",
    "    weight, error = poly_regress(input_data, output_data, d)\n",
    "\n",
    "    # Add arrays for plotting y_continuous\n",
    "    arrays = [x_cont]\n",
    "    ## Add continuous values for x^2, x^3, ..., x^d\n",
    "    for i in range(2, d+1):\n",
    "        new_arr = np.power(x_cont, i)\n",
    "        arrays.append(new_arr)\n",
    "    ## Add ones array\n",
    "    arrays.append(ones_cont)\n",
    "\n",
    "    # Form matrix, and obtain output values for plotting\n",
    "    data_cont = np.stack(arrays).transpose()\n",
    "    y_cont = np.matmul(data_cont, weight)\n",
    "    plt.plot(x_cont, y_cont, label=f\"d={d}\")\n",
    "\n",
    "    # Output weight and error\n",
    "    print(f\"d={d}: Error: {error}\")\n",
    "\n",
    "plt.legend(bbox_to_anchor=(1.04, 1), loc=\"upper left\") # reference used for placing legend outside of graph: https://stackoverflow.com/a/43439132\n",
    "plt.show()\n"
   ]
  },
  {
   "attachments": {},
   "cell_type": "markdown",
   "metadata": {},
   "source": [
    "The training error begins to get worse beyond $d=10$. "
   ]
  },
  {
   "attachments": {},
   "cell_type": "markdown",
   "metadata": {},
   "source": [
    "## 4. Ridge Regression"
   ]
  }
 ],
 "metadata": {
  "kernelspec": {
   "display_name": "Python 3",
   "language": "python",
   "name": "python3"
  },
  "language_info": {
   "codemirror_mode": {
    "name": "ipython",
    "version": 3
   },
   "file_extension": ".py",
   "mimetype": "text/x-python",
   "name": "python",
   "nbconvert_exporter": "python",
   "pygments_lexer": "ipython3",
   "version": "3.11.1"
  },
  "orig_nbformat": 4,
  "vscode": {
   "interpreter": {
    "hash": "e2db91031a12fcb3e3390203c036b39a950efdb54e631a631b83ee636da44a25"
   }
  }
 },
 "nbformat": 4,
 "nbformat_minor": 2
}
